{
  "nbformat": 4,
  "nbformat_minor": 0,
  "metadata": {
    "kernelspec": {
      "name": "python3",
      "display_name": "Python 3"
    },
    "language_info": {
      "codemirror_mode": {
        "name": "ipython",
        "version": 3
      },
      "file_extension": ".py",
      "mimetype": "text/x-python",
      "name": "python",
      "nbconvert_exporter": "python",
      "pygments_lexer": "ipython3",
      "version": "3.7.4"
    },
    "colab": {
      "name": "DCGAN.ipynb",
      "provenance": [],
      "collapsed_sections": []
    },
    "accelerator": "GPU"
  },
  "cells": [
    {
      "cell_type": "code",
      "metadata": {
        "id": "Ks1f84iRhxDO",
        "colab_type": "code",
        "outputId": "26e06941-192e-479f-dfe4-7d62005997b2",
        "colab": {
          "base_uri": "https://localhost:8080/",
          "height": 34
        }
      },
      "source": [
        "try:\n",
        "    %tensorflow_version 2.x\n",
        "except Exception:\n",
        "    pass"
      ],
      "execution_count": 1,
      "outputs": [
        {
          "output_type": "stream",
          "text": [
            "TensorFlow 2.x selected.\n"
          ],
          "name": "stdout"
        }
      ]
    },
    {
      "cell_type": "code",
      "metadata": {
        "id": "AYZ0JXmsiNKB",
        "colab_type": "code",
        "outputId": "5f837cb1-15a8-4722-849f-cde24f21b35a",
        "colab": {
          "base_uri": "https://localhost:8080/",
          "height": 34
        }
      },
      "source": [
        "import pathlib\n",
        "import time\n",
        "\n",
        "import matplotlib.pyplot as plt\n",
        "import numpy as np\n",
        "import pandas as pd\n",
        "\n",
        "import sklearn\n",
        "from sklearn.model_selection import train_test_split\n",
        "\n",
        "import cv2\n",
        "#image = cv2.imread(\"path\")\n",
        "#rgb_image = cv2.cvtColor(image, cv2.COLOR_BGR2RGB)\n",
        "\n",
        "import tensorflow as tf\n",
        "from tensorflow.keras.layers import Dense, BatchNormalization, LeakyReLU, Reshape, Conv2DTranspose, Conv2D, Dropout, Flatten\n",
        "from tensorflow.keras import Model, Sequential\n",
        "from tensorflow.keras.optimizers import Adam\n",
        "from tensorflow.keras.losses import SparseCategoricalCrossentropy, BinaryCrossentropy\n",
        "from tensorflow.keras.metrics import Mean, SparseCategoricalAccuracy\n",
        "\n",
        "from IPython import display\n",
        "\n",
        "template = \"numpy: v{np},  opencv: v{cv},  tensorflow: v{tf}\"\n",
        "print(template.format(np=np.__version__,\n",
        "                      cv=cv2.__version__,\n",
        "                      tf=tf.__version__))"
      ],
      "execution_count": 2,
      "outputs": [
        {
          "output_type": "stream",
          "text": [
            "numpy: v1.17.5,  opencv: v4.1.2,  tensorflow: v2.1.0\n"
          ],
          "name": "stdout"
        }
      ]
    },
    {
      "cell_type": "code",
      "metadata": {
        "id": "RciGtGaYhxDd",
        "colab_type": "code",
        "colab": {}
      },
      "source": [
        "BUFFER_SIZE = 60000\n",
        "BATCH_SIZE = 256\n",
        "HIDDEN_DIM = 100\n",
        "NUM_EXAMPLES = 16\n",
        "SEED = tf.random.normal([NUM_EXAMPLES, HIDDEN_DIM])\n",
        "\n",
        "EPOCHS = 50\n",
        "CHECKPOINTS_PREFIX = \"checkpoint\"\n",
        "CHECKPOINTS_DIR = \"./checkpoints\""
      ],
      "execution_count": 0,
      "outputs": []
    },
    {
      "cell_type": "code",
      "metadata": {
        "id": "Ha1iQrJyhxDs",
        "colab_type": "code",
        "colab": {}
      },
      "source": [
        "def generate_and_save_images(model, epoch, test_input):\n",
        "    predictions = model(test_input, training=False)\n",
        "    \n",
        "    fig = plt.figure(figsize=(4, 4))\n",
        "    \n",
        "    for i in range(predictions.shape[0]):\n",
        "        plt.subplot(4, 4, i + 1)\n",
        "        plt.imshow(predictions[i, :, :, 0] * 127.5 + 127.5, cmap='gray')\n",
        "        plt.axis('off')\n",
        "\n",
        "    template = \"image_at_epoch_{:04d}.png\"\n",
        "    plt.savefig(template.format(epoch))\n",
        "    plt.show()"
      ],
      "execution_count": 0,
      "outputs": []
    },
    {
      "cell_type": "code",
      "metadata": {
        "id": "IAMdIMiIhxD5",
        "colab_type": "code",
        "colab": {}
      },
      "source": [
        "def create_generator():\n",
        "    model = Sequential()\n",
        "    model.add(Dense(7 * 7 * 256, use_bias=False, input_shape=(HIDDEN_DIM,)))\n",
        "    model.add(BatchNormalization())\n",
        "    model.add(LeakyReLU())\n",
        "    model.add(Reshape((7, 7, 256)))\n",
        "    assert model.output_shape == (None, 7, 7, 256)\n",
        "    \n",
        "    model.add(Conv2DTranspose(128, (5, 5), strides=(1, 1), padding='same', use_bias=False))\n",
        "    assert model.output_shape == (None, 7, 7, 128)\n",
        "    model.add(BatchNormalization())\n",
        "    model.add(LeakyReLU())\n",
        "    \n",
        "    model.add(Conv2DTranspose(64, (5, 5), strides=(2, 2), padding='same', use_bias=False))\n",
        "    assert model.output_shape == (None, 14, 14, 64)\n",
        "    model.add(BatchNormalization())\n",
        "    model.add(LeakyReLU())\n",
        "    \n",
        "    model.add(Conv2DTranspose(1, (5, 5), strides=(2, 2), padding='same', use_bias=False, activation=\"tanh\"))\n",
        "    assert model.output_shape == (None, 28, 28, 1)\n",
        "    \n",
        "    return model\n",
        "\n",
        "def create_discriminator():\n",
        "    model = Sequential()\n",
        "    model.add(Conv2D(64, (5, 5), strides=(2, 2), padding='same', input_shape=[28, 28, 1]))\n",
        "    model.add(LeakyReLU())\n",
        "    model.add(Dropout(0.3))\n",
        "    \n",
        "    model.add(Conv2D(128, (5, 5), strides=(2, 2), padding='same'))\n",
        "    model.add(LeakyReLU())\n",
        "    model.add(Dropout(0.3))\n",
        "    \n",
        "    model.add(Flatten())\n",
        "    model.add(Dense(1))\n",
        "\n",
        "    return model"
      ],
      "execution_count": 0,
      "outputs": []
    },
    {
      "cell_type": "code",
      "metadata": {
        "id": "BWknqlgRfT9p",
        "colab_type": "code",
        "colab": {}
      },
      "source": [
        "class Generator:\n",
        "    def __init__(self, optimizer=Adam(1e-4)):\n",
        "        super(Generator, self).__init__()\n",
        "        self.model = None # use make_model method\n",
        "        self.optimizer = optimizer\n",
        "        self.make_model()\n",
        "        self.up_stack = [\n",
        "            self.upsample(128, (5, 5), strides=(1, 1)),\n",
        "            self.upsample(64, (5, 5), strides=(2, 2))\n",
        "        ]\n",
        "\n",
        "    #@tf.function -- prepare it\n",
        "    def make_model(self, model_type=\"G\"):\n",
        "        '''\n",
        "        self.model = Sequential()\n",
        "        self.model.add(Dense(7 * 7 * 256, use_bias=False, input_shape=(HIDDEN_DIM,)))\n",
        "        self.model.add(BatchNormalization())\n",
        "        self.model.add(LeakyReLU())\n",
        "        self.model.add(Reshape((7, 7, 256)))\n",
        "        for up in self.up_stack:\n",
        "            self.model.add(up)\n",
        "        self.model.add(Conv2DTranspose(1, (5, 5), strides=(2, 2), padding='same', use_bias=False, activation=\"tanh\"))\n",
        "        '''\n",
        "        if model_type == \"G\":\n",
        "            self.model = create_generator()\n",
        "        elif model_type == \"D\":\n",
        "            self.model = create_discriminator()\n",
        "\n",
        "    def __call__(self, x, training):\n",
        "        return self.model(x, training)\n",
        "\n",
        "    def upsample(self, filters, size, strides, apply_dropout=False):\n",
        "        result = Sequential()\n",
        "        result.add(Conv2DTranspose(filters, size, strides=strides))\n",
        "        if apply_dropout:\n",
        "            result.add(Dropout(0.5))\n",
        "        result.add(BatchNormalization())\n",
        "        result.add(LeakyReLU())\n",
        "\n",
        "        return result"
      ],
      "execution_count": 0,
      "outputs": []
    },
    {
      "cell_type": "code",
      "metadata": {
        "id": "OgZecHiotbqk",
        "colab_type": "code",
        "colab": {}
      },
      "source": [
        "class Discriminator:\n",
        "    def __init__(self, optimizer=Adam(1e-4)):\n",
        "        super(Discriminator, self).__init__()\n",
        "        self.model = None # use make_model method\n",
        "        self.optimizer = optimizer\n",
        "        self.make_model()\n",
        "\n",
        "    #@tf.function -- prepare it\n",
        "    def make_model(self, model_type=\"D\"):\n",
        "        '''\n",
        "        self.model = Sequential()\n",
        "        self.model.add(Dense(7 * 7 * 256, use_bias=False, input_shape=(HIDDEN_DIM,)))\n",
        "        self.model.add(BatchNormalization())\n",
        "        self.model.add(LeakyReLU())\n",
        "        self.model.add(Reshape((7, 7, 256)))\n",
        "        for up in self.up_stack:\n",
        "            self.model.add(up)\n",
        "        self.model.add(Conv2DTranspose(1, (5, 5), strides=(2, 2), padding='same', use_bias=False, activation=\"tanh\"))\n",
        "        '''\n",
        "        if model_type == \"G\":\n",
        "            self.model = create_generator()\n",
        "        elif model_type == \"D\":\n",
        "            self.model = create_discriminator()\n",
        "\n",
        "    def __call__(self, x, training):\n",
        "        return self.model(x, training)"
      ],
      "execution_count": 0,
      "outputs": []
    },
    {
      "cell_type": "code",
      "metadata": {
        "id": "KxEdlmmbrdBS",
        "colab_type": "code",
        "colab": {}
      },
      "source": [
        "class Extractor:\n",
        "    def __init__(self, optimizer=Adam(1e-4)):\n",
        "        super(Extractor, self).__init__()\n",
        "        self.model = None\n",
        "        self.optimizer = optimizer\n",
        "        self.make_model()\n",
        "    pass"
      ],
      "execution_count": 0,
      "outputs": []
    },
    {
      "cell_type": "code",
      "metadata": {
        "id": "3wfkcYFUhxEA",
        "colab_type": "code",
        "colab": {}
      },
      "source": [
        "crossentropy = BinaryCrossentropy(from_logits=True)\n",
        "\n",
        "def calculate_generator_loss(fake_output):\n",
        "    return crossentropy(tf.ones_like(fake_output), fake_output)\n",
        "\n",
        "def calculate_discriminator_loss(real_output, fake_output):\n",
        "    real_loss = crossentropy(tf.ones_like(real_output), real_output)\n",
        "    fake_loss = crossentropy(tf.zeros_like(fake_output), fake_output)\n",
        "    return real_loss + fake_loss"
      ],
      "execution_count": 0,
      "outputs": []
    },
    {
      "cell_type": "code",
      "metadata": {
        "id": "8T031tTDhxEH",
        "colab_type": "code",
        "colab": {
          "base_uri": "https://localhost:8080/",
          "height": 34
        },
        "outputId": "dcaea37e-ebff-4f1a-9e37-c7423cce35b1"
      },
      "source": [
        "'''\n",
        "generator = create_generator()\n",
        "generator_optimizer = Adam(1e-4)\n",
        "\n",
        "discriminator = create_discriminator()\n",
        "discriminator_optimizer = Adam(1e-4)\n",
        "'''"
      ],
      "execution_count": 10,
      "outputs": [
        {
          "output_type": "execute_result",
          "data": {
            "text/plain": [
              "'\\ngenerator = create_generator()\\ngenerator_optimizer = Adam(1e-4)\\n\\ndiscriminator = create_discriminator()\\ndiscriminator_optimizer = Adam(1e-4)\\n'"
            ]
          },
          "metadata": {
            "tags": []
          },
          "execution_count": 10
        }
      ]
    },
    {
      "cell_type": "code",
      "metadata": {
        "id": "aagyIBLtUFFh",
        "colab_type": "code",
        "colab": {}
      },
      "source": [
        "generator = Generator()\n",
        "discriminator = Discriminator()\n",
        "extractor = Extractor()"
      ],
      "execution_count": 0,
      "outputs": []
    },
    {
      "cell_type": "code",
      "metadata": {
        "id": "j-v7W6EPhxEL",
        "colab_type": "code",
        "outputId": "d5493231-1a97-41b4-dd25-224ca56dff51",
        "colab": {
          "base_uri": "https://localhost:8080/",
          "height": 282
        }
      },
      "source": [
        "noise = tf.random.normal([1, 100])\n",
        "generated_image = generator(noise, training=False)\n",
        "decision = discriminator(generated_image, training=False)\n",
        "\n",
        "plt.imshow(generated_image[0, :, :, 0], cmap='gray')\n",
        "print(decision)"
      ],
      "execution_count": 12,
      "outputs": [
        {
          "output_type": "stream",
          "text": [
            "tf.Tensor([[-0.00129142]], shape=(1, 1), dtype=float32)\n"
          ],
          "name": "stdout"
        },
        {
          "output_type": "display_data",
          "data": {
            "image/png": "[encoded data removed]",
            "text/plain": [
              "<Figure size 432x288 with 1 Axes>"
            ]
          },
          "metadata": {
            "tags": []
          }
        }
      ]
    },
    {
      "cell_type": "code",
      "metadata": {
        "id": "ogTvmb2NleK4",
        "colab_type": "code",
        "colab": {
          "base_uri": "https://localhost:8080/",
          "height": 54
        },
        "outputId": "fbfc1140-aa0a-42f0-cf35-a87b1a4365b1"
      },
      "source": [
        "'''\n",
        "@tf.function\n",
        "def train_step(images_batch):\n",
        "    hidden = tf.random.normal([BATCH_SIZE, HIDDEN_DIM])\n",
        "    \n",
        "    with tf.GradientTape() as generator_tape, tf.GradientTape() as discriminator_tape:\n",
        "        generated_images_batch = generator(hidden, training=True)\n",
        "        real_output = discriminator(images_batch, training=True)\n",
        "        fake_output = discriminator(generated_images_batch, training=True)\n",
        "        \n",
        "        generator_loss = calculate_generator_loss(fake_output)\n",
        "        discriminator_loss = calculate_discriminator_loss(real_output, fake_output)\n",
        "        \n",
        "    generator_gradients = generator_tape.gradient(generator_loss, generator.trainable_variables)\n",
        "    discriminator_gradients = discriminator_tape.gradient(discriminator_loss, discriminator.trainable_variables)\n",
        "\n",
        "    generator_optimizer.apply_gradients(zip(generator_gradients, generator.trainable_variables))\n",
        "    discriminator_optimizer.apply_gradients(zip(discriminator_gradients, discriminator.trainable_variables))\n",
        "'''"
      ],
      "execution_count": 13,
      "outputs": [
        {
          "output_type": "execute_result",
          "data": {
            "text/plain": [
              "'\\n@tf.function\\ndef train_step(images_batch):\\n    hidden = tf.random.normal([BATCH_SIZE, HIDDEN_DIM])\\n    \\n    with tf.GradientTape() as generator_tape, tf.GradientTape() as discriminator_tape:\\n        generated_images_batch = generator(hidden, training=True)\\n        real_output = discriminator(images_batch, training=True)\\n        fake_output = discriminator(generated_images_batch, training=True)\\n        \\n        generator_loss = calculate_generator_loss(fake_output)\\n        discriminator_loss = calculate_discriminator_loss(real_output, fake_output)\\n        \\n    generator_gradients = generator_tape.gradient(generator_loss, generator.trainable_variables)\\n    discriminator_gradients = discriminator_tape.gradient(discriminator_loss, discriminator.trainable_variables)\\n\\n    generator_optimizer.apply_gradients(zip(generator_gradients, generator.trainable_variables))\\n    discriminator_optimizer.apply_gradients(zip(discriminator_gradients, discriminator.trainable_variables))\\n'"
            ]
          },
          "metadata": {
            "tags": []
          },
          "execution_count": 13
        }
      ]
    },
    {
      "cell_type": "code",
      "metadata": {
        "id": "bhnOaevksLZL",
        "colab_type": "code",
        "colab": {
          "base_uri": "https://localhost:8080/",
          "height": 54
        },
        "outputId": "aa932fc8-b22b-4434-9418-6b7554f51aec"
      },
      "source": [
        "'''\n",
        "checkpoint = tf.train.Checkpoint(generator_optimizer=generator_optimizer,\n",
        "                                 discriminator_optimizer=discriminator_optimizer,\n",
        "                                 generator=generator,\n",
        "                                 discriminator=discriminator)\n",
        "\n",
        "def train(dataset, epochs=EPOCHS, seed=SEED):\n",
        "    for epoch in range(epochs):\n",
        "        start = time.time()\n",
        "        for images_batch in dataset:\n",
        "            train_step(images_batch)\n",
        "        display.clear_output(wait=True)\n",
        "        generate_and_save_images(generator, epoch + 1, seed)\n",
        "        if (epoch + 1) % 3 == 0:\n",
        "            checkpoint.save(file_prefix=CHECKPOINTS_PREFIX)\n",
        "        template = \"Time for epoch {} is {} sec\"\n",
        "        print(template.format(epoch + 1, time.time()-start))\n",
        "    display.clear_output(wait=True)\n",
        "    generate_and_save_images(generator, epochs, seed)\n",
        "'''"
      ],
      "execution_count": 14,
      "outputs": [
        {
          "output_type": "execute_result",
          "data": {
            "text/plain": [
              "'\\ncheckpoint = tf.train.Checkpoint(generator_optimizer=generator_optimizer,\\n                                 discriminator_optimizer=discriminator_optimizer,\\n                                 generator=generator,\\n                                 discriminator=discriminator)\\n\\ndef train(dataset, epochs=EPOCHS, seed=SEED):\\n    for epoch in range(epochs):\\n        start = time.time()\\n        for images_batch in dataset:\\n            train_step(images_batch)\\n        display.clear_output(wait=True)\\n        generate_and_save_images(generator, epoch + 1, seed)\\n        if (epoch + 1) % 3 == 0:\\n            checkpoint.save(file_prefix=CHECKPOINTS_PREFIX)\\n        template = \"Time for epoch {} is {} sec\"\\n        print(template.format(epoch + 1, time.time()-start))\\n    display.clear_output(wait=True)\\n    generate_and_save_images(generator, epochs, seed)\\n'"
            ]
          },
          "metadata": {
            "tags": []
          },
          "execution_count": 14
        }
      ]
    },
    {
      "cell_type": "code",
      "metadata": {
        "id": "AMemtzsasFMb",
        "colab_type": "code",
        "colab": {}
      },
      "source": [
        "@tf.function\n",
        "def train_step2(images_batch):\n",
        "    hidden = tf.random.normal([BATCH_SIZE, HIDDEN_DIM])\n",
        "    \n",
        "    with tf.GradientTape() as generator_tape, tf.GradientTape() as discriminator_tape:\n",
        "        generated_images_batch = generator(hidden, training=True)\n",
        "        real_output = discriminator(images_batch, training=True)\n",
        "        fake_output = discriminator(generated_images_batch, training=True)\n",
        "        \n",
        "        generator_loss = calculate_generator_loss(fake_output)\n",
        "        discriminator_loss = calculate_discriminator_loss(real_output, fake_output)\n",
        "        \n",
        "    generator_gradients = generator_tape.gradient(generator_loss, generator.model.trainable_variables)\n",
        "    discriminator_gradients = discriminator_tape.gradient(discriminator_loss, discriminator.model.trainable_variables)\n",
        "\n",
        "    generator.optimizer.apply_gradients(zip(generator_gradients, generator.model.trainable_variables))\n",
        "    discriminator.optimizer.apply_gradients(zip(discriminator_gradients, discriminator.model.trainable_variables))"
      ],
      "execution_count": 0,
      "outputs": []
    },
    {
      "cell_type": "code",
      "metadata": {
        "id": "Fd5-LwowhxEQ",
        "colab_type": "code",
        "colab": {}
      },
      "source": [
        "checkpoint2 = tf.train.Checkpoint(generator_optimizer=generator.optimizer,\n",
        "                                 discriminator_optimizer=discriminator.optimizer,\n",
        "                                 generator=generator.model,\n",
        "                                 discriminator=discriminator.model)\n",
        "\n",
        "def train2(dataset, epochs=EPOCHS, seed=SEED):\n",
        "    for epoch in range(epochs):\n",
        "        start = time.time()\n",
        "        for images_batch in dataset:\n",
        "            train_step2(images_batch)\n",
        "        #display.clear_output(wait=True)\n",
        "        generate_and_save_images(generator.model, epoch + 1, seed)\n",
        "        if (epoch + 1) % 3 == 0:\n",
        "            checkpoint2.save(file_prefix=CHECKPOINTS_PREFIX)\n",
        "        template = \"Time for epoch {} is {} sec\"\n",
        "        print(template.format(epoch + 1, time.time()-start))\n",
        "    display.clear_output(wait=True)\n",
        "    generate_and_save_images(generator.model, epochs, seed)"
      ],
      "execution_count": 0,
      "outputs": []
    },
    {
      "cell_type": "code",
      "metadata": {
        "id": "71SDuQV-hxEV",
        "colab_type": "code",
        "colab": {}
      },
      "source": [
        "mnist = tf.keras.datasets.mnist\n",
        "(train_images, _), (_, _) = mnist.load_data()\n",
        "train_images = train_images.reshape(train_images.shape[0], 28, 28, 1).astype('float32')\n",
        "train_images = (train_images - 127.5) / 127.5 # Normalize the images to [-1, 1]\n",
        "train_dataset = tf.data.Dataset.from_tensor_slices(train_images).shuffle(BUFFER_SIZE).batch(BATCH_SIZE)"
      ],
      "execution_count": 0,
      "outputs": []
    },
    {
      "cell_type": "code",
      "metadata": {
        "id": "ZbvS7TU1hxEY",
        "colab_type": "code",
        "outputId": "4534a991-19cf-4d01-b9c2-c1d23ced86dc",
        "colab": {
          "base_uri": "https://localhost:8080/",
          "height": 248
        }
      },
      "source": [
        "train2(train_dataset, EPOCHS)"
      ],
      "execution_count": 21,
      "outputs": [
        {
          "output_type": "display_data",
          "data": {
            "image/png": "[encoded data removed]",
            "text/plain": [
              "<Figure size 288x288 with 16 Axes>"
            ]
          },
          "metadata": {
            "tags": []
          }
        }
      ]
    },
    {
      "cell_type": "code",
      "metadata": {
        "id": "aW7ZvoPQhxEc",
        "colab_type": "code",
        "colab": {}
      },
      "source": [
        "    "
      ],
      "execution_count": 0,
      "outputs": []
    },
    {
      "cell_type": "code",
      "metadata": {
        "id": "lGrwbVdKty4_",
        "colab_type": "code",
        "colab": {}
      },
      "source": [
        ""
      ],
      "execution_count": 0,
      "outputs": []
    }
  ]
}